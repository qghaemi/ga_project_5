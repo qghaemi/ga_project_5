{
 "cells": [
  {
   "cell_type": "markdown",
   "id": "simple-logistics",
   "metadata": {},
   "source": [
    "# INTRO\n",
    "\n",
    "# PROBLEM STATEMENT\n",
    "\n",
    "# BACKGROUND\n",
    "\n",
    "# ASSUMPTIONS"
   ]
  },
  {
   "cell_type": "markdown",
   "id": "patent-finnish",
   "metadata": {},
   "source": [
    "### Import Libaries"
   ]
  },
  {
   "cell_type": "code",
   "execution_count": 6,
   "id": "legal-league",
   "metadata": {},
   "outputs": [],
   "source": [
    "import pandas as pd\n",
    "import numpy as np\n",
    "import os"
   ]
  },
  {
   "cell_type": "code",
   "execution_count": 8,
   "id": "according-track",
   "metadata": {},
   "outputs": [
    {
     "data": {
      "text/plain": [
       "['daily_aqi_by_county_2013.csv',\n",
       " 'daily_aqi_by_county_2012.csv',\n",
       " 'daily_aqi_by_county_2010.csv',\n",
       " 'daily_aqi_by_county_2011.csv',\n",
       " 'daily_aqi_by_county_2015.csv',\n",
       " 'daily_aqi_by_county_2014.csv',\n",
       " 'daily_aqi_by_county_2016.csv',\n",
       " 'daily_aqi_by_county_2017.csv',\n",
       " 'daily_aqi_by_county_2019.csv',\n",
       " 'daily_aqi_by_county_2018.csv',\n",
       " 'daily_aqi_by_county_2020.csv',\n",
       " 'daily_aqi_by_county_2009.csv']"
      ]
     },
     "execution_count": 8,
     "metadata": {},
     "output_type": "execute_result"
    }
   ],
   "source": [
    "# upload all data files using os\n",
    "aqi_data = os.listdir('./Datasets')\n",
    "\n",
    "# confirm the os code worked\n",
    "aqi_data"
   ]
  },
  {
   "cell_type": "code",
   "execution_count": 10,
   "id": "coated-neutral",
   "metadata": {},
   "outputs": [],
   "source": [
    "# generate an empty list where each df will be stored\n",
    "df_list = []\n",
    "\n",
    "# read in all the data files but only keep the rows for california\n",
    "for i in aqi_data:\n",
    "    \n",
    "    # read in each df\n",
    "    new_df = pd.read_csv(f'./Datasets/{i}')\n",
    "    \n",
    "    # rename column names\n",
    "    new_df.rename(columns={'State Name': 'state_name',\n",
    "                          'county Name': 'county_name',\n",
    "                          'State Code': 'state_code',\n",
    "                          'County Code': 'county_code',\n",
    "                          'Date': 'date',\n",
    "                          'AQI': 'aqi',\n",
    "                          'Category': 'category',\n",
    "                          'Defining Parameter': 'defining_parameter',\n",
    "                          'Defining Site': 'defining_site',\n",
    "                          'Number of Sites Reporting': 'number_of_sites_reporting'}, inplace=True)\n",
    "    \n",
    "    # only keep rows from California\n",
    "    new_df = new_df[new_df['state_name'] == 'California']\n",
    "    \n",
    "    # append the new_df to the df_list\n",
    "    df_list.append(new_df)"
   ]
  },
  {
   "cell_type": "code",
   "execution_count": 11,
   "id": "completed-burlington",
   "metadata": {},
   "outputs": [],
   "source": [
    "# concat all the dfs in the df_list\n",
    "full_df = pd.concat(df_list)"
   ]
  },
  {
   "cell_type": "code",
   "execution_count": 18,
   "id": "mexican-lincoln",
   "metadata": {},
   "outputs": [
    {
     "data": {
      "text/html": [
       "<div>\n",
       "<style scoped>\n",
       "    .dataframe tbody tr th:only-of-type {\n",
       "        vertical-align: middle;\n",
       "    }\n",
       "\n",
       "    .dataframe tbody tr th {\n",
       "        vertical-align: top;\n",
       "    }\n",
       "\n",
       "    .dataframe thead th {\n",
       "        text-align: right;\n",
       "    }\n",
       "</style>\n",
       "<table border=\"1\" class=\"dataframe\">\n",
       "  <thead>\n",
       "    <tr style=\"text-align: right;\">\n",
       "      <th></th>\n",
       "      <th>state_name</th>\n",
       "      <th>county_name</th>\n",
       "      <th>state_code</th>\n",
       "      <th>county_code</th>\n",
       "      <th>date</th>\n",
       "      <th>aqi</th>\n",
       "      <th>category</th>\n",
       "      <th>defining_parameter</th>\n",
       "      <th>defining_site</th>\n",
       "      <th>number_of_sites_reporting</th>\n",
       "    </tr>\n",
       "  </thead>\n",
       "  <tbody>\n",
       "    <tr>\n",
       "      <th>14508</th>\n",
       "      <td>California</td>\n",
       "      <td>Alameda</td>\n",
       "      <td>6</td>\n",
       "      <td>1</td>\n",
       "      <td>2013-01-01</td>\n",
       "      <td>62</td>\n",
       "      <td>Moderate</td>\n",
       "      <td>PM2.5</td>\n",
       "      <td>06-001-0007</td>\n",
       "      <td>4</td>\n",
       "    </tr>\n",
       "    <tr>\n",
       "      <th>14509</th>\n",
       "      <td>California</td>\n",
       "      <td>Alameda</td>\n",
       "      <td>6</td>\n",
       "      <td>1</td>\n",
       "      <td>2013-01-02</td>\n",
       "      <td>61</td>\n",
       "      <td>Moderate</td>\n",
       "      <td>PM2.5</td>\n",
       "      <td>06-001-0007</td>\n",
       "      <td>4</td>\n",
       "    </tr>\n",
       "    <tr>\n",
       "      <th>14510</th>\n",
       "      <td>California</td>\n",
       "      <td>Alameda</td>\n",
       "      <td>6</td>\n",
       "      <td>1</td>\n",
       "      <td>2013-01-03</td>\n",
       "      <td>81</td>\n",
       "      <td>Moderate</td>\n",
       "      <td>PM2.5</td>\n",
       "      <td>06-001-0007</td>\n",
       "      <td>4</td>\n",
       "    </tr>\n",
       "    <tr>\n",
       "      <th>14511</th>\n",
       "      <td>California</td>\n",
       "      <td>Alameda</td>\n",
       "      <td>6</td>\n",
       "      <td>1</td>\n",
       "      <td>2013-01-04</td>\n",
       "      <td>78</td>\n",
       "      <td>Moderate</td>\n",
       "      <td>PM2.5</td>\n",
       "      <td>06-001-0007</td>\n",
       "      <td>4</td>\n",
       "    </tr>\n",
       "    <tr>\n",
       "      <th>14512</th>\n",
       "      <td>California</td>\n",
       "      <td>Alameda</td>\n",
       "      <td>6</td>\n",
       "      <td>1</td>\n",
       "      <td>2013-01-05</td>\n",
       "      <td>84</td>\n",
       "      <td>Moderate</td>\n",
       "      <td>PM2.5</td>\n",
       "      <td>06-001-0007</td>\n",
       "      <td>4</td>\n",
       "    </tr>\n",
       "  </tbody>\n",
       "</table>\n",
       "</div>"
      ],
      "text/plain": [
       "       state_name county_name  state_code  county_code        date  aqi  \\\n",
       "14508  California     Alameda           6            1  2013-01-01   62   \n",
       "14509  California     Alameda           6            1  2013-01-02   61   \n",
       "14510  California     Alameda           6            1  2013-01-03   81   \n",
       "14511  California     Alameda           6            1  2013-01-04   78   \n",
       "14512  California     Alameda           6            1  2013-01-05   84   \n",
       "\n",
       "       category defining_parameter defining_site  number_of_sites_reporting  \n",
       "14508  Moderate              PM2.5   06-001-0007                          4  \n",
       "14509  Moderate              PM2.5   06-001-0007                          4  \n",
       "14510  Moderate              PM2.5   06-001-0007                          4  \n",
       "14511  Moderate              PM2.5   06-001-0007                          4  \n",
       "14512  Moderate              PM2.5   06-001-0007                          4  "
      ]
     },
     "execution_count": 18,
     "metadata": {},
     "output_type": "execute_result"
    }
   ],
   "source": [
    "# confirm full_df came out ok\n",
    "full_df.head()"
   ]
  },
  {
   "cell_type": "code",
   "execution_count": 20,
   "id": "greater-pioneer",
   "metadata": {},
   "outputs": [
    {
     "name": "stdout",
     "output_type": "stream",
     "text": [
      "<class 'pandas.core.frame.DataFrame'>\n",
      "Int64Index: 218538 entries, 14508 to 33315\n",
      "Data columns (total 10 columns):\n",
      " #   Column                     Non-Null Count   Dtype \n",
      "---  ------                     --------------   ----- \n",
      " 0   state_name                 218538 non-null  object\n",
      " 1   county_name                218538 non-null  object\n",
      " 2   state_code                 218538 non-null  int64 \n",
      " 3   county_code                218538 non-null  int64 \n",
      " 4   date                       218538 non-null  object\n",
      " 5   aqi                        218538 non-null  int64 \n",
      " 6   category                   218538 non-null  object\n",
      " 7   defining_parameter         218538 non-null  object\n",
      " 8   defining_site              218538 non-null  object\n",
      " 9   number_of_sites_reporting  218538 non-null  int64 \n",
      "dtypes: int64(4), object(6)\n",
      "memory usage: 18.3+ MB\n"
     ]
    },
    {
     "data": {
      "text/plain": [
       "(None,\n",
       " state_name                   0\n",
       " county_name                  0\n",
       " state_code                   0\n",
       " county_code                  0\n",
       " date                         0\n",
       " aqi                          0\n",
       " category                     0\n",
       " defining_parameter           0\n",
       " defining_site                0\n",
       " number_of_sites_reporting    0\n",
       " dtype: int64)"
      ]
     },
     "execution_count": 20,
     "metadata": {},
     "output_type": "execute_result"
    }
   ],
   "source": [
    "# check for missing rows and object types\n",
    "full_df.info(), full_df.isnull().sum()"
   ]
  },
  {
   "cell_type": "code",
   "execution_count": 17,
   "id": "acknowledged-contact",
   "metadata": {},
   "outputs": [
    {
     "data": {
      "text/plain": [
       "state_name                   0\n",
       "county_name                  0\n",
       "state_code                   0\n",
       "county_code                  0\n",
       "date                         0\n",
       "aqi                          0\n",
       "category                     0\n",
       "defining_parameter           0\n",
       "defining_site                0\n",
       "number_of_sites_reporting    0\n",
       "dtype: int64"
      ]
     },
     "execution_count": 17,
     "metadata": {},
     "output_type": "execute_result"
    }
   ],
   "source": [
    "# can drop state_code"
   ]
  }
 ],
 "metadata": {
  "kernelspec": {
   "display_name": "Python 3",
   "language": "python",
   "name": "python3"
  },
  "language_info": {
   "codemirror_mode": {
    "name": "ipython",
    "version": 3
   },
   "file_extension": ".py",
   "mimetype": "text/x-python",
   "name": "python",
   "nbconvert_exporter": "python",
   "pygments_lexer": "ipython3",
   "version": "3.8.5"
  }
 },
 "nbformat": 4,
 "nbformat_minor": 5
}
