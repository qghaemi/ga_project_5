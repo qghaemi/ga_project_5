{
 "cells": [
  {
   "cell_type": "code",
   "execution_count": 3,
   "metadata": {},
   "outputs": [],
   "source": [
    "import pandas as pd\n",
    "import matplotlib.pyplot as plt\n",
    "import numpy as np\n",
    "from sklearn.model_selection import train_test_split\n",
    "from statsmodels.tsa.arima_model import ARIMA\n",
    "from datetime import datetime\n",
    "import seaborn as sns"
   ]
  },
  {
   "cell_type": "code",
   "execution_count": 5,
   "metadata": {},
   "outputs": [
    {
     "data": {
      "text/html": [
       "<div>\n",
       "<style scoped>\n",
       "    .dataframe tbody tr th:only-of-type {\n",
       "        vertical-align: middle;\n",
       "    }\n",
       "\n",
       "    .dataframe tbody tr th {\n",
       "        vertical-align: top;\n",
       "    }\n",
       "\n",
       "    .dataframe thead th {\n",
       "        text-align: right;\n",
       "    }\n",
       "</style>\n",
       "<table border=\"1\" class=\"dataframe\">\n",
       "  <thead>\n",
       "    <tr style=\"text-align: right;\">\n",
       "      <th></th>\n",
       "      <th>date</th>\n",
       "      <th>state_name</th>\n",
       "      <th>county_name</th>\n",
       "      <th>county_code</th>\n",
       "      <th>aqi</th>\n",
       "      <th>category</th>\n",
       "      <th>defining_parameter</th>\n",
       "      <th>defining_site</th>\n",
       "      <th>number_of_sites_reporting</th>\n",
       "    </tr>\n",
       "  </thead>\n",
       "  <tbody>\n",
       "    <tr>\n",
       "      <th>0</th>\n",
       "      <td>2013-01-01</td>\n",
       "      <td>California</td>\n",
       "      <td>Alameda</td>\n",
       "      <td>1</td>\n",
       "      <td>62</td>\n",
       "      <td>Moderate</td>\n",
       "      <td>PM2.5</td>\n",
       "      <td>06-001-0007</td>\n",
       "      <td>4</td>\n",
       "    </tr>\n",
       "    <tr>\n",
       "      <th>1</th>\n",
       "      <td>2013-01-02</td>\n",
       "      <td>California</td>\n",
       "      <td>Alameda</td>\n",
       "      <td>1</td>\n",
       "      <td>61</td>\n",
       "      <td>Moderate</td>\n",
       "      <td>PM2.5</td>\n",
       "      <td>06-001-0007</td>\n",
       "      <td>4</td>\n",
       "    </tr>\n",
       "    <tr>\n",
       "      <th>2</th>\n",
       "      <td>2013-01-03</td>\n",
       "      <td>California</td>\n",
       "      <td>Alameda</td>\n",
       "      <td>1</td>\n",
       "      <td>81</td>\n",
       "      <td>Moderate</td>\n",
       "      <td>PM2.5</td>\n",
       "      <td>06-001-0007</td>\n",
       "      <td>4</td>\n",
       "    </tr>\n",
       "    <tr>\n",
       "      <th>3</th>\n",
       "      <td>2013-01-04</td>\n",
       "      <td>California</td>\n",
       "      <td>Alameda</td>\n",
       "      <td>1</td>\n",
       "      <td>78</td>\n",
       "      <td>Moderate</td>\n",
       "      <td>PM2.5</td>\n",
       "      <td>06-001-0007</td>\n",
       "      <td>4</td>\n",
       "    </tr>\n",
       "    <tr>\n",
       "      <th>4</th>\n",
       "      <td>2013-01-05</td>\n",
       "      <td>California</td>\n",
       "      <td>Alameda</td>\n",
       "      <td>1</td>\n",
       "      <td>84</td>\n",
       "      <td>Moderate</td>\n",
       "      <td>PM2.5</td>\n",
       "      <td>06-001-0007</td>\n",
       "      <td>4</td>\n",
       "    </tr>\n",
       "  </tbody>\n",
       "</table>\n",
       "</div>"
      ],
      "text/plain": [
       "         date  state_name county_name  county_code  aqi  category  \\\n",
       "0  2013-01-01  California     Alameda            1   62  Moderate   \n",
       "1  2013-01-02  California     Alameda            1   61  Moderate   \n",
       "2  2013-01-03  California     Alameda            1   81  Moderate   \n",
       "3  2013-01-04  California     Alameda            1   78  Moderate   \n",
       "4  2013-01-05  California     Alameda            1   84  Moderate   \n",
       "\n",
       "  defining_parameter defining_site  number_of_sites_reporting  \n",
       "0              PM2.5   06-001-0007                          4  \n",
       "1              PM2.5   06-001-0007                          4  \n",
       "2              PM2.5   06-001-0007                          4  \n",
       "3              PM2.5   06-001-0007                          4  \n",
       "4              PM2.5   06-001-0007                          4  "
      ]
     },
     "execution_count": 5,
     "metadata": {},
     "output_type": "execute_result"
    }
   ],
   "source": [
    "# import df:\n",
    "df = pd.read_csv('./Datasets/cleaned_df.csv')\n",
    "df.head()"
   ]
  },
  {
   "cell_type": "code",
   "execution_count": 6,
   "metadata": {},
   "outputs": [],
   "source": [
    "df['date'] = pd.to_datetime(df['date'])"
   ]
  },
  {
   "cell_type": "code",
   "execution_count": 7,
   "metadata": {},
   "outputs": [],
   "source": [
    "df = df.set_index('date')"
   ]
  },
  {
   "cell_type": "code",
   "execution_count": 21,
   "metadata": {},
   "outputs": [
    {
     "name": "stdout",
     "output_type": "stream",
     "text": [
      "<class 'pandas.core.frame.DataFrame'>\n",
      "DatetimeIndex: 218538 entries, 2013-01-01 to 2009-12-31\n",
      "Data columns (total 8 columns):\n",
      " #   Column                     Non-Null Count   Dtype \n",
      "---  ------                     --------------   ----- \n",
      " 0   state_name                 218538 non-null  object\n",
      " 1   county_name                218538 non-null  object\n",
      " 2   county_code                218538 non-null  int64 \n",
      " 3   aqi                        218538 non-null  int64 \n",
      " 4   category                   218538 non-null  object\n",
      " 5   defining_parameter         218538 non-null  object\n",
      " 6   defining_site              218538 non-null  object\n",
      " 7   number_of_sites_reporting  218538 non-null  int64 \n",
      "dtypes: int64(3), object(5)\n",
      "memory usage: 15.0+ MB\n"
     ]
    }
   ],
   "source": [
    "df.info()"
   ]
  },
  {
   "cell_type": "code",
   "execution_count": 9,
   "metadata": {},
   "outputs": [],
   "source": [
    "from statsmodels.tsa.stattools import adfuller\n",
    "\n",
    "# adfuller(df['aqi'])[0:2]"
   ]
  },
  {
   "cell_type": "code",
   "execution_count": 10,
   "metadata": {},
   "outputs": [
    {
     "name": "stdout",
     "output_type": "stream",
     "text": [
      " ADFuller scores for Alameda is (-19.998393488258447, 0.0)\n",
      " ADFuller scores for Alpine is (-3.2326206351998135, 0.018172431434736205)\n",
      " ADFuller scores for Amador is (-4.374251810568102, 0.0003295751082804053)\n",
      " ADFuller scores for Butte is (-8.763214252713732, 2.6396965832188662e-14)\n",
      " ADFuller scores for Calaveras is (-5.67392890725777, 8.792945631045364e-07)\n",
      " ADFuller scores for Colusa is (-8.647658598002907, 5.217601540228938e-14)\n",
      " ADFuller scores for Contra Costa is (-17.311319639786795, 5.552131411197296e-30)\n",
      " ADFuller scores for Del Norte is (-5.60189747756787, 1.2592555307788235e-06)\n",
      " ADFuller scores for El Dorado is (-4.502017348793118, 0.00019499601616468747)\n",
      " ADFuller scores for Fresno is (-8.052208336816715, 1.729916380262277e-12)\n",
      " ADFuller scores for Glenn is (-9.937582285881383, 2.7177429017749233e-17)\n",
      " ADFuller scores for Humboldt is (-6.711603959539159, 3.668730435062906e-09)\n",
      " ADFuller scores for Imperial is (-6.991790149119344, 7.711303601911271e-10)\n",
      " ADFuller scores for Inyo is (-16.18442252444045, 4.233502229507814e-29)\n",
      " ADFuller scores for Kern is (-7.433330585751653, 6.276710076249683e-11)\n",
      " ADFuller scores for Kings is (-8.081457059521725, 1.457632951566333e-12)\n",
      " ADFuller scores for Lake is (-6.977131826931635, 8.372579799873825e-10)\n",
      " ADFuller scores for Los Angeles is (-6.5951926218953965, 6.953841154811015e-09)\n",
      " ADFuller scores for Madera is (-7.256579401391063, 1.7245609941253764e-10)\n",
      " ADFuller scores for Marin is (-13.8635717397524, 6.660580643282884e-26)\n",
      " ADFuller scores for Mariposa is (-7.737953957571946, 1.0809626775076318e-11)\n",
      " ADFuller scores for Mendocino is (-8.890355070390601, 1.2473403792031574e-14)\n",
      " ADFuller scores for Merced is (-9.067715542864839, 4.3865837199115084e-15)\n",
      " ADFuller scores for Mono is (-60.02004102435554, 0.0)\n",
      " ADFuller scores for Monterey is (-15.435423804350679, 2.911379072699862e-28)\n",
      " ADFuller scores for Napa is (-14.069835014574084, 2.953778382368431e-26)\n",
      " ADFuller scores for Nevada is (-5.840317578567916, 3.790878197004518e-07)\n",
      " ADFuller scores for Orange is (-18.794472539290744, 2.0232375442983193e-30)\n",
      " ADFuller scores for Placer is (-6.233902034763689, 4.8780919731239344e-08)\n",
      " ADFuller scores for Plumas is (-6.1422389888382165, 7.920063301070729e-08)\n",
      " ADFuller scores for Riverside is (-5.84705235299706, 3.6627291235927515e-07)\n",
      " ADFuller scores for Sacramento is (-9.124379478770207, 3.1423880969820818e-15)\n",
      " ADFuller scores for San Benito is (-7.128492017570442, 3.5683393004541804e-10)\n",
      " ADFuller scores for San Bernardino is (-4.731477459235715, 7.341164616221943e-05)\n",
      " ADFuller scores for San Diego is (-8.438109850550708, 1.793634044053033e-13)\n",
      " ADFuller scores for San Francisco is (-8.130906777168581, 1.0909428473588384e-12)\n",
      " ADFuller scores for San Joaquin is (-8.705929834184804, 3.700453532763625e-14)\n",
      " ADFuller scores for San Luis Obispo is (-6.487108906770663, 1.2529329535597986e-08)\n",
      " ADFuller scores for San Mateo is (-10.151171998146166, 7.943950059850959e-18)\n",
      " ADFuller scores for Santa Barbara is (-15.763081194070114, 1.1852839478662811e-28)\n",
      " ADFuller scores for Santa Clara is (-15.110597991125116, 7.70629739737966e-28)\n",
      " ADFuller scores for Santa Cruz is (-9.193713954831699, 2.0898751690506643e-15)\n",
      " ADFuller scores for Shasta is (-7.992753001749767, 2.4494567960165087e-12)\n",
      " ADFuller scores for Siskiyou is (-6.419288586368325, 1.8083104004323392e-08)\n",
      " ADFuller scores for Solano is (-15.153786873903718, 6.739265623381381e-28)\n",
      " ADFuller scores for Sonoma is (-13.835093193971186, 7.46862895455531e-26)\n",
      " ADFuller scores for Stanislaus is (-9.113067431686158, 3.3587179685456326e-15)\n",
      " ADFuller scores for Sutter is (-8.189752662717106, 7.724870448410526e-13)\n",
      " ADFuller scores for Tehama is (-6.451981380169446, 1.5155465048616834e-08)\n",
      " ADFuller scores for Trinity is (-5.756900409829279, 5.791595710996182e-07)\n",
      " ADFuller scores for Tulare is (-7.1988009257220575, 2.395407634216136e-10)\n",
      " ADFuller scores for Tuolumne is (-4.454344396049063, 0.00023756528631139814)\n",
      " ADFuller scores for Ventura is (-9.88933067412687, 3.592810903056681e-17)\n",
      " ADFuller scores for Yolo is (-9.654765437707871, 1.4037280740311638e-16)\n"
     ]
    }
   ],
   "source": [
    "for i in df.county_name.unique().tolist():\n",
    "    mask = df[df['county_name'] == i]\n",
    "    print(f\" ADFuller scores for {i} is {adfuller(mask['aqi'])[0:2]}\")"
   ]
  },
  {
   "cell_type": "code",
   "execution_count": 20,
   "metadata": {},
   "outputs": [],
   "source": [
    "import warnings\n",
    "warnings.filterwarnings('ignore', 'statsmodels.tsa.arima_model.ARMA',\n",
    "                        FutureWarning)\n",
    "warnings.filterwarnings('ignore', 'statsmodels.tsa.arima_model.ARIMA',\n",
    "                        FutureWarning)"
   ]
  },
  {
   "cell_type": "code",
   "execution_count": 12,
   "metadata": {},
   "outputs": [
    {
     "name": "stderr",
     "output_type": "stream",
     "text": [
      "/opt/anaconda3/envs/dsi/lib/python3.8/site-packages/statsmodels/tsa/arima_model.py:472: FutureWarning: \n",
      "statsmodels.tsa.arima_model.ARMA and statsmodels.tsa.arima_model.ARIMA have\n",
      "been deprecated in favor of statsmodels.tsa.arima.model.ARIMA (note the .\n",
      "between arima and model) and\n",
      "statsmodels.tsa.SARIMAX. These will be removed after the 0.12 release.\n",
      "\n",
      "statsmodels.tsa.arima.model.ARIMA makes use of the statespace framework and\n",
      "is both well tested and maintained.\n",
      "\n",
      "To silence this warning and continue using ARMA and ARIMA until they are\n",
      "removed, use:\n",
      "\n",
      "import warnings\n",
      "warnings.filterwarnings('ignore', 'statsmodels.tsa.arima_model.ARMA',\n",
      "                        FutureWarning)\n",
      "warnings.filterwarnings('ignore', 'statsmodels.tsa.arima_model.ARIMA',\n",
      "                        FutureWarning)\n",
      "\n",
      "  warnings.warn(ARIMA_DEPRECATION_WARN, FutureWarning)\n",
      "/opt/anaconda3/envs/dsi/lib/python3.8/site-packages/statsmodels/tsa/base/tsa_model.py:524: ValueWarning: No frequency information was provided, so inferred frequency D will be used.\n",
      "  warnings.warn('No frequency information was'\n"
     ]
    },
    {
     "data": {
      "image/png": "[encoded data removed]",
      "text/plain": [
       "<Figure size 720x432 with 1 Axes>"
      ]
     },
     "metadata": {},
     "output_type": "display_data"
    }
   ],
   "source": [
    "la = df[df['county_name'] == 'Los Angeles'].sort_index()\n",
    "\n",
    "y_train = la['aqi']['2010-01-01':'2018-12-31'] # dataset to train\n",
    "y_test = la['aqi']['2019-01-01':'2019-12-31'] # last X months for test  \n",
    "# predict_date = len(y) - len(y['2019-01-01':'2019-12-31']) # the number of data points for the test set\n",
    "\n",
    "# split data:\n",
    "# y_train, y_test = train_test_split(la['aqi'], test_size=1/132, shuffle=False)\n",
    "\n",
    "# instatiate ARIMA\n",
    "model = ARIMA(endog=y_train, order=(1,0,1)) \n",
    "\n",
    "# fit ARIMA model\n",
    "arima = model.fit()\n",
    "\n",
    "#generate predictions\n",
    "preds = model.predict(params = arima.params, start=y_test.index[0], end=y_test.index[-1])\n",
    "\n",
    "# Plot data.\n",
    "plt.figure(figsize=(10,6))\n",
    "# Plot training data.\n",
    "plt.plot(y_train.index, pd.DataFrame(y_train).diff(), color = 'blue')\n",
    "# Plot testing data.\n",
    "plt.plot(y_test.index, pd.DataFrame(y_test).diff(), color = 'orange')\n",
    "# Plot predicted test values.\n",
    "plt.plot(y_test.index, preds, color = 'green')\n",
    "plt.title(label = 'Once-Differenced AQI with ARIMA(1, 0, 1) Predictions', fontsize=16)\n",
    "plt.show();"
   ]
  },
  {
   "cell_type": "code",
   "execution_count": 13,
   "metadata": {},
   "outputs": [
    {
     "data": {
      "text/plain": [
       "37.49922038208974"
      ]
     },
     "execution_count": 13,
     "metadata": {},
     "output_type": "execute_result"
    }
   ],
   "source": [
    "from sklearn import metrics\n",
    "# generate predictions off the model\n",
    "pred = arima.predict(dynamic=True, start=y_test.index[0], end=y_test.index[-1])\n",
    "\n",
    "    # calculate RMSE and show the score \n",
    "rmse = metrics.mean_squared_error(y_test, pred, squared=False)\n",
    "rmse"
   ]
  },
  {
   "cell_type": "code",
   "execution_count": 14,
   "metadata": {},
   "outputs": [],
   "source": [
    "def rmse_ma(true_val, pred, n):\n",
    "    return (sum((true_val[:n] - pred[:n]) ** 2)/n)**(1/2)"
   ]
  },
  {
   "cell_type": "code",
   "execution_count": 15,
   "metadata": {},
   "outputs": [
    {
     "data": {
      "text/plain": [
       "19.502239967459506"
      ]
     },
     "execution_count": 15,
     "metadata": {},
     "output_type": "execute_result"
    }
   ],
   "source": [
    "rmse_ma(y_test, pred, 7)"
   ]
  },
  {
   "cell_type": "markdown",
   "metadata": {},
   "source": [
    "### SARIMA"
   ]
  },
  {
   "cell_type": "code",
   "execution_count": 18,
   "metadata": {},
   "outputs": [],
   "source": [
    "import itertools\n",
    "\n",
    "def sarima_grid_search(y,seasonal_period):\n",
    "    p = d = q = range(0, 2)\n",
    "    pdq = list(itertools.product(p, d, q))\n",
    "    seasonal_pdq = [(x[0], x[1], x[2],seasonal_period) for x in pdq]\n",
    "    \n",
    "    mini = float('+inf')\n",
    "    \n",
    "    \n",
    "    for param in pdq:\n",
    "        for param_seasonal in seasonal_pdq:\n",
    "            try:\n",
    "                mod = sm.tsa.statespace.SARIMAX(y,\n",
    "                                                order=param,\n",
    "                                                seasonal_order=param_seasonal,\n",
    "                                                enforce_stationarity=False,\n",
    "                                                enforce_invertibility=False)\n",
    "\n",
    "                results = mod.fit()\n",
    "                \n",
    "                if results.aic < mini:\n",
    "                    mini = results.aic\n",
    "                    param_mini = param\n",
    "                    param_seasonal_mini = param_seasonal\n",
    "\n",
    "#                 print('SARIMA{}x{} - AIC:{}'.format(param, param_seasonal, results.aic))\n",
    "            except:\n",
    "                continue\n",
    "    print('The set of parameters with the minimum AIC is: SARIMA{}x{} - AIC:{}'.format(param_mini, param_seasonal_mini, mini))"
   ]
  },
  {
   "cell_type": "code",
   "execution_count": 19,
   "metadata": {},
   "outputs": [
    {
     "ename": "NameError",
     "evalue": "name 'y' is not defined",
     "output_type": "error",
     "traceback": [
      "\u001b[0;31m---------------------------------------------------------------------------\u001b[0m",
      "\u001b[0;31mNameError\u001b[0m                                 Traceback (most recent call last)",
      "\u001b[0;32m<ipython-input-19-a7a4c9a2c87b>\u001b[0m in \u001b[0;36m<module>\u001b[0;34m\u001b[0m\n\u001b[0;32m----> 1\u001b[0;31m \u001b[0msarima_grid_search\u001b[0m\u001b[0;34m(\u001b[0m\u001b[0my\u001b[0m\u001b[0;34m,\u001b[0m\u001b[0;36m365\u001b[0m\u001b[0;34m)\u001b[0m\u001b[0;34m\u001b[0m\u001b[0;34m\u001b[0m\u001b[0m\n\u001b[0m",
      "\u001b[0;31mNameError\u001b[0m: name 'y' is not defined"
     ]
    }
   ],
   "source": [
    "sarima_grid_search(y,365)"
   ]
  },
  {
   "cell_type": "code",
   "execution_count": null,
   "metadata": {},
   "outputs": [],
   "source": []
  }
 ],
 "metadata": {
  "kernelspec": {
   "display_name": "Python 3",
   "language": "python",
   "name": "python3"
  },
  "language_info": {
   "codemirror_mode": {
    "name": "ipython",
    "version": 3
   },
   "file_extension": ".py",
   "mimetype": "text/x-python",
   "name": "python",
   "nbconvert_exporter": "python",
   "pygments_lexer": "ipython3",
   "version": "3.8.5"
  }
 },
 "nbformat": 4,
 "nbformat_minor": 4
}
