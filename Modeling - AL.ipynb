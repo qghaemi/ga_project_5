{
 "cells": [
  {
   "cell_type": "code",
   "execution_count": 2,
   "metadata": {},
   "outputs": [],
   "source": [
    "import pandas as pd\n",
    "import matplotlib.pyplot as plt\n",
    "import numpy as np\n",
    "from sklearn.model_selection import train_test_split\n",
    "from statsmodels.tsa.arima_model import ARIMA\n",
    "from datetime import datetime\n",
    "import seaborn as sns"
   ]
  },
  {
   "cell_type": "code",
   "execution_count": 3,
   "metadata": {},
   "outputs": [
    {
     "data": {
      "text/html": [
       "<div>\n",
       "<style scoped>\n",
       "    .dataframe tbody tr th:only-of-type {\n",
       "        vertical-align: middle;\n",
       "    }\n",
       "\n",
       "    .dataframe tbody tr th {\n",
       "        vertical-align: top;\n",
       "    }\n",
       "\n",
       "    .dataframe thead th {\n",
       "        text-align: right;\n",
       "    }\n",
       "</style>\n",
       "<table border=\"1\" class=\"dataframe\">\n",
       "  <thead>\n",
       "    <tr style=\"text-align: right;\">\n",
       "      <th></th>\n",
       "      <th>date</th>\n",
       "      <th>state_name</th>\n",
       "      <th>county_name</th>\n",
       "      <th>county_code</th>\n",
       "      <th>aqi</th>\n",
       "      <th>category</th>\n",
       "      <th>defining_parameter</th>\n",
       "      <th>defining_site</th>\n",
       "      <th>number_of_sites_reporting</th>\n",
       "    </tr>\n",
       "  </thead>\n",
       "  <tbody>\n",
       "    <tr>\n",
       "      <th>0</th>\n",
       "      <td>2013-01-01</td>\n",
       "      <td>California</td>\n",
       "      <td>Alameda</td>\n",
       "      <td>1</td>\n",
       "      <td>62</td>\n",
       "      <td>Moderate</td>\n",
       "      <td>PM2.5</td>\n",
       "      <td>06-001-0007</td>\n",
       "      <td>4</td>\n",
       "    </tr>\n",
       "    <tr>\n",
       "      <th>1</th>\n",
       "      <td>2013-01-02</td>\n",
       "      <td>California</td>\n",
       "      <td>Alameda</td>\n",
       "      <td>1</td>\n",
       "      <td>61</td>\n",
       "      <td>Moderate</td>\n",
       "      <td>PM2.5</td>\n",
       "      <td>06-001-0007</td>\n",
       "      <td>4</td>\n",
       "    </tr>\n",
       "    <tr>\n",
       "      <th>2</th>\n",
       "      <td>2013-01-03</td>\n",
       "      <td>California</td>\n",
       "      <td>Alameda</td>\n",
       "      <td>1</td>\n",
       "      <td>81</td>\n",
       "      <td>Moderate</td>\n",
       "      <td>PM2.5</td>\n",
       "      <td>06-001-0007</td>\n",
       "      <td>4</td>\n",
       "    </tr>\n",
       "    <tr>\n",
       "      <th>3</th>\n",
       "      <td>2013-01-04</td>\n",
       "      <td>California</td>\n",
       "      <td>Alameda</td>\n",
       "      <td>1</td>\n",
       "      <td>78</td>\n",
       "      <td>Moderate</td>\n",
       "      <td>PM2.5</td>\n",
       "      <td>06-001-0007</td>\n",
       "      <td>4</td>\n",
       "    </tr>\n",
       "    <tr>\n",
       "      <th>4</th>\n",
       "      <td>2013-01-05</td>\n",
       "      <td>California</td>\n",
       "      <td>Alameda</td>\n",
       "      <td>1</td>\n",
       "      <td>84</td>\n",
       "      <td>Moderate</td>\n",
       "      <td>PM2.5</td>\n",
       "      <td>06-001-0007</td>\n",
       "      <td>4</td>\n",
       "    </tr>\n",
       "  </tbody>\n",
       "</table>\n",
       "</div>"
      ],
      "text/plain": [
       "         date  state_name county_name  county_code  aqi  category  \\\n",
       "0  2013-01-01  California     Alameda            1   62  Moderate   \n",
       "1  2013-01-02  California     Alameda            1   61  Moderate   \n",
       "2  2013-01-03  California     Alameda            1   81  Moderate   \n",
       "3  2013-01-04  California     Alameda            1   78  Moderate   \n",
       "4  2013-01-05  California     Alameda            1   84  Moderate   \n",
       "\n",
       "  defining_parameter defining_site  number_of_sites_reporting  \n",
       "0              PM2.5   06-001-0007                          4  \n",
       "1              PM2.5   06-001-0007                          4  \n",
       "2              PM2.5   06-001-0007                          4  \n",
       "3              PM2.5   06-001-0007                          4  \n",
       "4              PM2.5   06-001-0007                          4  "
      ]
     },
     "execution_count": 3,
     "metadata": {},
     "output_type": "execute_result"
    }
   ],
   "source": [
    "# import df:\n",
    "df = pd.read_csv('./Datasets/cleaned_df.csv')\n",
    "df.head()"
   ]
  },
  {
   "cell_type": "code",
   "execution_count": 4,
   "metadata": {},
   "outputs": [],
   "source": [
    "df['date'] = pd.to_datetime(df['date'])"
   ]
  },
  {
   "cell_type": "code",
   "execution_count": 5,
   "metadata": {},
   "outputs": [],
   "source": [
    "df = df.set_index('date')"
   ]
  },
  {
   "cell_type": "code",
   "execution_count": 6,
   "metadata": {},
   "outputs": [
    {
     "name": "stdout",
     "output_type": "stream",
     "text": [
      "<class 'pandas.core.frame.DataFrame'>\n",
      "DatetimeIndex: 218538 entries, 2013-01-01 to 2009-12-31\n",
      "Data columns (total 8 columns):\n",
      " #   Column                     Non-Null Count   Dtype \n",
      "---  ------                     --------------   ----- \n",
      " 0   state_name                 218538 non-null  object\n",
      " 1   county_name                218538 non-null  object\n",
      " 2   county_code                218538 non-null  int64 \n",
      " 3   aqi                        218538 non-null  int64 \n",
      " 4   category                   218538 non-null  object\n",
      " 5   defining_parameter         218538 non-null  object\n",
      " 6   defining_site              218538 non-null  object\n",
      " 7   number_of_sites_reporting  218538 non-null  int64 \n",
      "dtypes: int64(3), object(5)\n",
      "memory usage: 15.0+ MB\n"
     ]
    }
   ],
   "source": [
    "df.info()"
   ]
  },
  {
   "cell_type": "code",
   "execution_count": 7,
   "metadata": {},
   "outputs": [],
   "source": [
    "from statsmodels.tsa.stattools import adfuller\n",
    "\n",
    "# adfuller(df['aqi'])[0:2]"
   ]
  },
  {
   "cell_type": "code",
   "execution_count": 8,
   "metadata": {},
   "outputs": [
    {
     "name": "stdout",
     "output_type": "stream",
     "text": [
      " ADFuller scores for Alameda is (-19.998393488258447, 0.0)\n",
      " ADFuller scores for Alpine is (-3.2326206351998152, 0.01817243143473612)\n",
      " ADFuller scores for Amador is (-4.374251810568105, 0.0003295751082804015)\n",
      " ADFuller scores for Butte is (-8.763214252713718, 2.6396965832190476e-14)\n",
      " ADFuller scores for Calaveras is (-5.673928907257773, 8.792945631045284e-07)\n",
      " ADFuller scores for Colusa is (-8.647658598002913, 5.2176015402288046e-14)\n",
      " ADFuller scores for Contra Costa is (-17.311319639786785, 5.552131411197455e-30)\n",
      " ADFuller scores for Del Norte is (-5.601897477567881, 1.2592555307787583e-06)\n",
      " ADFuller scores for El Dorado is (-4.5020173487931165, 0.00019499601616468942)\n",
      " ADFuller scores for Fresno is (-8.052208336816744, 1.7299163802619825e-12)\n",
      " ADFuller scores for Glenn is (-9.937582285881366, 2.7177429017752166e-17)\n",
      " ADFuller scores for Humboldt is (-6.711603959539166, 3.6687304350627987e-09)\n",
      " ADFuller scores for Imperial is (-6.991790149119383, 7.711303601909724e-10)\n",
      " ADFuller scores for Inyo is (-16.184422524440414, 4.233502229508058e-29)\n",
      " ADFuller scores for Kern is (-7.433330585751668, 6.276710076249182e-11)\n",
      " ADFuller scores for Kings is (-8.081457059521723, 1.457632951566333e-12)\n",
      " ADFuller scores for Lake is (-6.977131826931659, 8.372579799872726e-10)\n",
      " ADFuller scores for Los Angeles is (-6.595192621895403, 6.953841154810863e-09)\n",
      " ADFuller scores for Madera is (-7.256579401391045, 1.7245609941255335e-10)\n",
      " ADFuller scores for Marin is (-13.863571739752375, 6.660580643283696e-26)\n",
      " ADFuller scores for Mariposa is (-7.73795395757194, 1.0809626775076792e-11)\n",
      " ADFuller scores for Mendocino is (-8.890355070390587, 1.2473403792032791e-14)\n",
      " ADFuller scores for Merced is (-9.067715542864843, 4.386583719911382e-15)\n",
      " ADFuller scores for Mono is (-60.02004102435552, 0.0)\n",
      " ADFuller scores for Monterey is (-15.435423804350672, 2.911379072699862e-28)\n",
      " ADFuller scores for Napa is (-14.06983501457408, 2.953778382368475e-26)\n",
      " ADFuller scores for Nevada is (-5.840317578567913, 3.790878197004595e-07)\n",
      " ADFuller scores for Orange is (-18.794472539290737, 2.0232375442983778e-30)\n",
      " ADFuller scores for Placer is (-6.233902034763688, 4.8780919731239344e-08)\n",
      " ADFuller scores for Plumas is (-6.142238988838225, 7.920063301070353e-08)\n",
      " ADFuller scores for Riverside is (-5.8470523529970775, 3.6627291235924196e-07)\n",
      " ADFuller scores for Sacramento is (-9.124379478770196, 3.1423880969822297e-15)\n",
      " ADFuller scores for San Benito is (-7.128492017570437, 3.5683393004542703e-10)\n",
      " ADFuller scores for San Bernardino is (-4.731477459235721, 7.341164616221754e-05)\n",
      " ADFuller scores for San Diego is (-8.438109850550703, 1.793634044053085e-13)\n",
      " ADFuller scores for San Francisco is (-8.130906777168574, 1.0909428473588782e-12)\n",
      " ADFuller scores for San Joaquin is (-8.705929834184799, 3.700453532763733e-14)\n",
      " ADFuller scores for San Luis Obispo is (-6.487108906770661, 1.2529329535597986e-08)\n",
      " ADFuller scores for San Mateo is (-10.151171998146182, 7.943950059850102e-18)\n",
      " ADFuller scores for Santa Barbara is (-15.763081194070121, 1.1852839478662473e-28)\n",
      " ADFuller scores for Santa Clara is (-15.110597991125115, 7.70629739737966e-28)\n",
      " ADFuller scores for Santa Cruz is (-9.193713954831708, 2.089875169050581e-15)\n",
      " ADFuller scores for Shasta is (-7.992753001749792, 2.4494567960161803e-12)\n",
      " ADFuller scores for Siskiyou is (-6.419288586368336, 1.8083104004322466e-08)\n",
      " ADFuller scores for Solano is (-15.15378687390372, 6.739265623381381e-28)\n",
      " ADFuller scores for Sonoma is (-13.835093193971193, 7.468628954555201e-26)\n",
      " ADFuller scores for Stanislaus is (-9.113067431686162, 3.358717968545535e-15)\n",
      " ADFuller scores for Sutter is (-8.189752662717114, 7.724870448410163e-13)\n",
      " ADFuller scores for Tehama is (-6.451981380169435, 1.5155465048617757e-08)\n",
      " ADFuller scores for Trinity is (-5.7569004098292975, 5.791595710995648e-07)\n",
      " ADFuller scores for Tulare is (-7.198800925722059, 2.395407634216084e-10)\n",
      " ADFuller scores for Tuolumne is (-4.454344396049062, 0.0002375652863113992)\n",
      " ADFuller scores for Ventura is (-9.88933067412686, 3.59281090305694e-17)\n",
      " ADFuller scores for Yolo is (-9.654765437707875, 1.4037280740311332e-16)\n"
     ]
    }
   ],
   "source": [
    "for i in df.county_name.unique().tolist():\n",
    "    mask = df[df['county_name'] == i]\n",
    "    print(f\" ADFuller scores for {i} is {adfuller(mask['aqi'])[0:2]}\")"
   ]
  },
  {
   "cell_type": "code",
   "execution_count": 9,
   "metadata": {},
   "outputs": [],
   "source": [
    "import warnings\n",
    "warnings.filterwarnings('ignore', 'statsmodels.tsa.arima_model.ARMA',\n",
    "                        FutureWarning)\n",
    "warnings.filterwarnings('ignore', 'statsmodels.tsa.arima_model.ARIMA',\n",
    "                        FutureWarning)"
   ]
  },
  {
   "cell_type": "code",
   "execution_count": 10,
   "metadata": {},
   "outputs": [
    {
     "name": "stderr",
     "output_type": "stream",
     "text": [
      "/opt/anaconda3/envs/dsi/lib/python3.8/site-packages/statsmodels/tsa/arima_model.py:472: FutureWarning: \n",
      "statsmodels.tsa.arima_model.ARMA and statsmodels.tsa.arima_model.ARIMA have\n",
      "been deprecated in favor of statsmodels.tsa.arima.model.ARIMA (note the .\n",
      "between arima and model) and\n",
      "statsmodels.tsa.SARIMAX. These will be removed after the 0.12 release.\n",
      "\n",
      "statsmodels.tsa.arima.model.ARIMA makes use of the statespace framework and\n",
      "is both well tested and maintained.\n",
      "\n",
      "To silence this warning and continue using ARMA and ARIMA until they are\n",
      "removed, use:\n",
      "\n",
      "import warnings\n",
      "warnings.filterwarnings('ignore', 'statsmodels.tsa.arima_model.ARMA',\n",
      "                        FutureWarning)\n",
      "warnings.filterwarnings('ignore', 'statsmodels.tsa.arima_model.ARIMA',\n",
      "                        FutureWarning)\n",
      "\n",
      "  warnings.warn(ARIMA_DEPRECATION_WARN, FutureWarning)\n",
      "/opt/anaconda3/envs/dsi/lib/python3.8/site-packages/statsmodels/tsa/base/tsa_model.py:524: ValueWarning: No frequency information was provided, so inferred frequency D will be used.\n",
      "  warnings.warn('No frequency information was'\n",
      "/opt/anaconda3/envs/dsi/lib/python3.8/site-packages/statsmodels/tsa/base/tsa_model.py:524: ValueWarning: No frequency information was provided, so inferred frequency D will be used.\n",
      "  warnings.warn('No frequency information was'\n",
      "/opt/anaconda3/envs/dsi/lib/python3.8/site-packages/statsmodels/tsa/arima_model.py:472: FutureWarning: \n",
      "statsmodels.tsa.arima_model.ARMA and statsmodels.tsa.arima_model.ARIMA have\n",
      "been deprecated in favor of statsmodels.tsa.arima.model.ARIMA (note the .\n",
      "between arima and model) and\n",
      "statsmodels.tsa.SARIMAX. These will be removed after the 0.12 release.\n",
      "\n",
      "statsmodels.tsa.arima.model.ARIMA makes use of the statespace framework and\n",
      "is both well tested and maintained.\n",
      "\n",
      "To silence this warning and continue using ARMA and ARIMA until they are\n",
      "removed, use:\n",
      "\n",
      "import warnings\n",
      "warnings.filterwarnings('ignore', 'statsmodels.tsa.arima_model.ARMA',\n",
      "                        FutureWarning)\n",
      "warnings.filterwarnings('ignore', 'statsmodels.tsa.arima_model.ARIMA',\n",
      "                        FutureWarning)\n",
      "\n",
      "  warnings.warn(ARIMA_DEPRECATION_WARN, FutureWarning)\n"
     ]
    },
    {
     "data": {
      "image/png": "[encoded data removed]",
      "text/plain": [
       "<Figure size 720x432 with 1 Axes>"
      ]
     },
     "metadata": {},
     "output_type": "display_data"
    }
   ],
   "source": [
    "la = df[df['county_name'] == 'Los Angeles'].sort_index()\n",
    "\n",
    "y_train = la['aqi']['2010-01-01':'2018-12-31'] # dataset to train\n",
    "y_test = la['aqi']['2019-01-01':'2019-12-31'] # last X months for test  \n",
    "# predict_date = len(y) - len(y['2019-01-01':'2019-12-31']) # the number of data points for the test set\n",
    "\n",
    "# split data:\n",
    "# y_train, y_test = train_test_split(la['aqi'], test_size=1/132, shuffle=False)\n",
    "\n",
    "# instatiate ARIMA\n",
    "model = ARIMA(endog=y_train, order=(6,1,9)) \n",
    "\n",
    "# fit ARIMA model\n",
    "arima = model.fit()\n",
    "\n",
    "#generate predictions\n",
    "preds = model.predict(params = arima.params, start=y_test.index[0], end=y_test.index[-1])\n",
    "\n",
    "# Plot data.\n",
    "plt.figure(figsize=(10,6))\n",
    "# Plot training data.\n",
    "plt.plot(y_train.index, pd.DataFrame(y_train).diff(), color = 'blue')\n",
    "# Plot testing data.\n",
    "plt.plot(y_test.index, pd.DataFrame(y_test).diff(), color = 'orange')\n",
    "# Plot predicted test values.\n",
    "plt.plot(y_test.index, preds, color = 'green')\n",
    "plt.title(label = 'Once-Differenced AQI with ARIMA(6, 1, 9) Predictions', fontsize=16)\n",
    "plt.show();"
   ]
  },
  {
   "cell_type": "code",
   "execution_count": 14,
   "metadata": {},
   "outputs": [
    {
     "data": {
      "text/plain": [
       "89.80665316858328"
      ]
     },
     "execution_count": 14,
     "metadata": {},
     "output_type": "execute_result"
    }
   ],
   "source": [
    "from sklearn import metrics\n",
    "# generate predictions off the model\n",
    "pred = arima.predict(dynamic=True, start=y_test.index[0], end=y_test.index[-1])\n",
    "\n",
    "    # calculate RMSE and show the score \n",
    "rmse = metrics.mean_squared_error(y_test, pred, squared=False)\n",
    "rmse"
   ]
  },
  {
   "cell_type": "code",
   "execution_count": 15,
   "metadata": {},
   "outputs": [],
   "source": [
    "def rmse_ma(true_val, pred, n):\n",
    "    return (sum((true_val[:n] - pred[:n]) ** 2)/n)**(1/2)"
   ]
  },
  {
   "cell_type": "code",
   "execution_count": 16,
   "metadata": {},
   "outputs": [
    {
     "data": {
      "text/plain": [
       "70.6616853746476"
      ]
     },
     "execution_count": 16,
     "metadata": {},
     "output_type": "execute_result"
    }
   ],
   "source": [
    "rmse_ma(y_test, pred, 7)"
   ]
  },
  {
   "cell_type": "markdown",
   "metadata": {},
   "source": [
    "### SARIMA"
   ]
  },
  {
   "cell_type": "code",
   "execution_count": 17,
   "metadata": {},
   "outputs": [],
   "source": [
    "import itertools\n",
    "\n",
    "def sarima_grid_search(y,seasonal_period):\n",
    "    p = d = q = range(0, 2)\n",
    "    pdq = list(itertools.product(p, d, q))\n",
    "    seasonal_pdq = [(x[0], x[1], x[2],seasonal_period) for x in pdq]\n",
    "    \n",
    "    mini = float('+inf')\n",
    "    \n",
    "    \n",
    "    for param in pdq:\n",
    "        for param_seasonal in seasonal_pdq:\n",
    "            try:\n",
    "                mod = sm.tsa.statespace.SARIMAX(y,\n",
    "                                                order=param,\n",
    "                                                seasonal_order=param_seasonal,\n",
    "                                                enforce_stationarity=False,\n",
    "                                                enforce_invertibility=False)\n",
    "\n",
    "                results = mod.fit()\n",
    "                \n",
    "                if results.aic < mini:\n",
    "                    mini = results.aic\n",
    "                    param_mini = param\n",
    "                    param_seasonal_mini = param_seasonal\n",
    "\n",
    "#                 print('SARIMA{}x{} - AIC:{}'.format(param, param_seasonal, results.aic))\n",
    "            except:\n",
    "                continue\n",
    "    print('The set of parameters with the minimum AIC is: SARIMA{}x{} - AIC:{}'.format(param_mini, param_seasonal_mini, mini))"
   ]
  },
  {
   "cell_type": "code",
   "execution_count": 18,
   "metadata": {},
   "outputs": [
    {
     "ename": "NameError",
     "evalue": "name 'y' is not defined",
     "output_type": "error",
     "traceback": [
      "\u001b[0;31m---------------------------------------------------------------------------\u001b[0m",
      "\u001b[0;31mNameError\u001b[0m                                 Traceback (most recent call last)",
      "\u001b[0;32m<ipython-input-18-a7a4c9a2c87b>\u001b[0m in \u001b[0;36m<module>\u001b[0;34m\u001b[0m\n\u001b[0;32m----> 1\u001b[0;31m \u001b[0msarima_grid_search\u001b[0m\u001b[0;34m(\u001b[0m\u001b[0my\u001b[0m\u001b[0;34m,\u001b[0m\u001b[0;36m365\u001b[0m\u001b[0;34m)\u001b[0m\u001b[0;34m\u001b[0m\u001b[0;34m\u001b[0m\u001b[0m\n\u001b[0m",
      "\u001b[0;31mNameError\u001b[0m: name 'y' is not defined"
     ]
    }
   ],
   "source": [
    "sarima_grid_search(y,365)"
   ]
  },
  {
   "cell_type": "code",
   "execution_count": null,
   "metadata": {},
   "outputs": [],
   "source": []
  }
 ],
 "metadata": {
  "kernelspec": {
   "display_name": "Python 3",
   "language": "python",
   "name": "python3"
  },
  "language_info": {
   "codemirror_mode": {
    "name": "ipython",
    "version": 3
   },
   "file_extension": ".py",
   "mimetype": "text/x-python",
   "name": "python",
   "nbconvert_exporter": "python",
   "pygments_lexer": "ipython3",
   "version": "3.8.5"
  }
 },
 "nbformat": 4,
 "nbformat_minor": 4
}
