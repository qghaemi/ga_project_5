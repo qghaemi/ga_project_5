{
 "cells": [
  {
   "cell_type": "code",
   "execution_count": 1,
   "id": "raised-vermont",
   "metadata": {},
   "outputs": [],
   "source": [
    "#Imoprts:\n",
    "import pandas as pd\n",
    "from datetime import timedelta\n",
    "%matplotlib inline\n",
    "from datetime import datetime\n",
    "from datetime import timedelta\n",
    "import matplotlib.pyplot as plt\n",
    "from pandas.plotting import register_matplotlib_converters\n",
    "register_matplotlib_converters()"
   ]
  },
  {
   "cell_type": "code",
   "execution_count": 2,
   "id": "simplified-abraham",
   "metadata": {},
   "outputs": [],
   "source": [
    "#Reading in data\n",
    "df = pd.read_csv('./Datasets/cleaned_df.csv')"
   ]
  },
  {
   "cell_type": "code",
   "execution_count": 3,
   "id": "european-perry",
   "metadata": {},
   "outputs": [],
   "source": [
    "# Change date column to be datetime dtype\n",
    "df['date'] = pd.to_datetime(df['date'])"
   ]
  },
  {
   "cell_type": "code",
   "execution_count": 4,
   "id": "bright-sugar",
   "metadata": {},
   "outputs": [],
   "source": [
    "df.set_index('date', inplace=True)\n",
    "df.sort_index(inplace=True)"
   ]
  },
  {
   "cell_type": "code",
   "execution_count": 5,
   "id": "accomplished-australian",
   "metadata": {},
   "outputs": [],
   "source": [
    "CountyNames = list(df.county_name.unique())\n",
    "#countys"
   ]
  },
  {
   "cell_type": "code",
   "execution_count": 6,
   "id": "handled-cosmetic",
   "metadata": {},
   "outputs": [],
   "source": [
    "la = pd.DataFrame(df[df['county_name']== 'Los Angeles'])"
   ]
  },
  {
   "cell_type": "code",
   "execution_count": null,
   "id": "checked-somerset",
   "metadata": {},
   "outputs": [],
   "source": [
    "def county_modeling(list):\n",
    "    #CountyNames = list(df.county_name.unique())\n",
    "    for place in list:\n",
    "        place = pf.DataFrame(df[df['county_name']== place])\n",
    "    return "
   ]
  },
  {
   "cell_type": "code",
   "execution_count": null,
   "id": "anonymous-coffee",
   "metadata": {},
   "outputs": [],
   "source": [
    "import warnings\n",
    "plt.style.use('fivethirtyeight')\n",
    "import matplotlib.pyplot as plt\n",
    "y = la['aqi']\n",
    "fig, ax = plt.subplots(figsize=(20, 6))\n",
    "ax.plot(y.resample('Y').mean(),marker='o', markersize=3, linestyle='-', label='Yearly Mean Resample')\n",
    "ax.plot(y.resample('M').mean(),marker='o', markersize=1, linestyle='-', label='Monthly Mean Resample')\n",
    "ax.set_ylabel('Orders')\n",
    "ax.legend();"
   ]
  },
  {
   "cell_type": "code",
   "execution_count": 24,
   "id": "liberal-cisco",
   "metadata": {},
   "outputs": [],
   "source": [
    "la = pd.DataFrame(df[df['county_name']== 'Los Angeles'])"
   ]
  },
  {
   "cell_type": "code",
   "execution_count": 25,
   "id": "scenic-winter",
   "metadata": {},
   "outputs": [],
   "source": [
    "y = la['aqi']"
   ]
  },
  {
   "cell_type": "code",
   "execution_count": 26,
   "id": "patent-rotation",
   "metadata": {},
   "outputs": [
    {
     "data": {
      "text/plain": [
       "date\n",
       "2009-01-01    160\n",
       "2009-01-02    153\n",
       "2009-01-03    101\n",
       "2009-01-04     72\n",
       "2009-01-05     59\n",
       "             ... \n",
       "2020-06-27    119\n",
       "2020-06-28     42\n",
       "2020-06-29     44\n",
       "2020-06-30     51\n",
       "2020-07-01      2\n",
       "Name: aqi, Length: 4200, dtype: int64"
      ]
     },
     "execution_count": 26,
     "metadata": {},
     "output_type": "execute_result"
    }
   ],
   "source": [
    "y"
   ]
  }
 ],
 "metadata": {
  "kernelspec": {
   "display_name": "Python 3",
   "language": "python",
   "name": "python3"
  },
  "language_info": {
   "codemirror_mode": {
    "name": "ipython",
    "version": 3
   },
   "file_extension": ".py",
   "mimetype": "text/x-python",
   "name": "python",
   "nbconvert_exporter": "python",
   "pygments_lexer": "ipython3",
   "version": "3.8.2"
  }
 },
 "nbformat": 4,
 "nbformat_minor": 5
}
