{
 "cells": [
  {
   "cell_type": "markdown",
   "id": "saving-benefit",
   "metadata": {},
   "source": [
    "# Data Import and Cleaning"
   ]
  },
  {
   "cell_type": "markdown",
   "id": "painted-lebanon",
   "metadata": {},
   "source": [
    "### Import Libaries"
   ]
  },
  {
   "cell_type": "code",
   "execution_count": 6,
   "id": "searching-courage",
   "metadata": {},
   "outputs": [],
   "source": [
    "import pandas as pd\n",
    "import numpy as np\n",
    "import os"
   ]
  },
  {
   "cell_type": "code",
   "execution_count": 43,
   "id": "threaded-parker",
   "metadata": {},
   "outputs": [
    {
     "data": {
      "text/plain": [
       "['daily_aqi_by_county_2013.csv',\n",
       " 'daily_aqi_by_county_2012.csv',\n",
       " 'daily_aqi_by_county_2010.csv',\n",
       " 'daily_aqi_by_county_2011.csv',\n",
       " 'daily_aqi_by_county_2015.csv',\n",
       " 'daily_aqi_by_county_2014.csv',\n",
       " 'cleaned_df.csv',\n",
       " 'daily_aqi_by_county_2016.csv',\n",
       " 'daily_aqi_by_county_2017.csv',\n",
       " 'daily_aqi_by_county_2019.csv',\n",
       " 'daily_aqi_by_county_2018.csv',\n",
       " 'daily_aqi_by_county_2020.csv',\n",
       " 'daily_aqi_by_county_2009.csv']"
      ]
     },
     "execution_count": 43,
     "metadata": {},
     "output_type": "execute_result"
    }
   ],
   "source": [
    "# upload all data files using os\n",
    "aqi_data = os.listdir('./Datasets')\n",
    "\n",
    "# confirm the os code worked\n",
    "aqi_data"
   ]
  },
  {
   "cell_type": "code",
   "execution_count": 44,
   "id": "chinese-tampa",
   "metadata": {},
   "outputs": [],
   "source": [
    "# generate an empty list where each df will be stored\n",
    "df_list = []\n",
    "\n",
    "# read in all the data files but only keep the rows for california\n",
    "for i in aqi_data:\n",
    "    \n",
    "    # read in each df\n",
    "    new_df = pd.read_csv(f'./Datasets/{i}')\n",
    "    \n",
    "    # rename column names\n",
    "    new_df.rename(columns={'State Name': 'state_name',\n",
    "                          'county Name': 'county_name',\n",
    "                          'State Code': 'state_code',\n",
    "                          'County Code': 'county_code',\n",
    "                          'Date': 'date',\n",
    "                          'AQI': 'aqi',\n",
    "                          'Category': 'category',\n",
    "                          'Defining Parameter': 'defining_parameter',\n",
    "                          'Defining Site': 'defining_site',\n",
    "                          'Number of Sites Reporting': 'number_of_sites_reporting'}, inplace=True)\n",
    "    \n",
    "    # only keep rows from California\n",
    "    new_df = new_df[new_df['state_name'] == 'California']\n",
    "    \n",
    "    # append the new_df to the df_list\n",
    "    df_list.append(new_df)"
   ]
  },
  {
   "cell_type": "code",
   "execution_count": 45,
   "id": "automatic-kentucky",
   "metadata": {},
   "outputs": [],
   "source": [
    "# concat all the dfs in the df_list\n",
    "full_df = pd.concat(df_list)"
   ]
  },
  {
   "cell_type": "code",
   "execution_count": 46,
   "id": "worth-steal",
   "metadata": {},
   "outputs": [
    {
     "data": {
      "text/html": [
       "<div>\n",
       "<style scoped>\n",
       "    .dataframe tbody tr th:only-of-type {\n",
       "        vertical-align: middle;\n",
       "    }\n",
       "\n",
       "    .dataframe tbody tr th {\n",
       "        vertical-align: top;\n",
       "    }\n",
       "\n",
       "    .dataframe thead th {\n",
       "        text-align: right;\n",
       "    }\n",
       "</style>\n",
       "<table border=\"1\" class=\"dataframe\">\n",
       "  <thead>\n",
       "    <tr style=\"text-align: right;\">\n",
       "      <th></th>\n",
       "      <th>state_name</th>\n",
       "      <th>county_name</th>\n",
       "      <th>state_code</th>\n",
       "      <th>county_code</th>\n",
       "      <th>date</th>\n",
       "      <th>aqi</th>\n",
       "      <th>category</th>\n",
       "      <th>defining_parameter</th>\n",
       "      <th>defining_site</th>\n",
       "      <th>number_of_sites_reporting</th>\n",
       "    </tr>\n",
       "  </thead>\n",
       "  <tbody>\n",
       "    <tr>\n",
       "      <th>14508</th>\n",
       "      <td>California</td>\n",
       "      <td>Alameda</td>\n",
       "      <td>6.0</td>\n",
       "      <td>1</td>\n",
       "      <td>2013-01-01</td>\n",
       "      <td>62</td>\n",
       "      <td>Moderate</td>\n",
       "      <td>PM2.5</td>\n",
       "      <td>06-001-0007</td>\n",
       "      <td>4</td>\n",
       "    </tr>\n",
       "    <tr>\n",
       "      <th>14509</th>\n",
       "      <td>California</td>\n",
       "      <td>Alameda</td>\n",
       "      <td>6.0</td>\n",
       "      <td>1</td>\n",
       "      <td>2013-01-02</td>\n",
       "      <td>61</td>\n",
       "      <td>Moderate</td>\n",
       "      <td>PM2.5</td>\n",
       "      <td>06-001-0007</td>\n",
       "      <td>4</td>\n",
       "    </tr>\n",
       "    <tr>\n",
       "      <th>14510</th>\n",
       "      <td>California</td>\n",
       "      <td>Alameda</td>\n",
       "      <td>6.0</td>\n",
       "      <td>1</td>\n",
       "      <td>2013-01-03</td>\n",
       "      <td>81</td>\n",
       "      <td>Moderate</td>\n",
       "      <td>PM2.5</td>\n",
       "      <td>06-001-0007</td>\n",
       "      <td>4</td>\n",
       "    </tr>\n",
       "    <tr>\n",
       "      <th>14511</th>\n",
       "      <td>California</td>\n",
       "      <td>Alameda</td>\n",
       "      <td>6.0</td>\n",
       "      <td>1</td>\n",
       "      <td>2013-01-04</td>\n",
       "      <td>78</td>\n",
       "      <td>Moderate</td>\n",
       "      <td>PM2.5</td>\n",
       "      <td>06-001-0007</td>\n",
       "      <td>4</td>\n",
       "    </tr>\n",
       "    <tr>\n",
       "      <th>14512</th>\n",
       "      <td>California</td>\n",
       "      <td>Alameda</td>\n",
       "      <td>6.0</td>\n",
       "      <td>1</td>\n",
       "      <td>2013-01-05</td>\n",
       "      <td>84</td>\n",
       "      <td>Moderate</td>\n",
       "      <td>PM2.5</td>\n",
       "      <td>06-001-0007</td>\n",
       "      <td>4</td>\n",
       "    </tr>\n",
       "  </tbody>\n",
       "</table>\n",
       "</div>"
      ],
      "text/plain": [
       "       state_name county_name  state_code  county_code        date  aqi  \\\n",
       "14508  California     Alameda         6.0            1  2013-01-01   62   \n",
       "14509  California     Alameda         6.0            1  2013-01-02   61   \n",
       "14510  California     Alameda         6.0            1  2013-01-03   81   \n",
       "14511  California     Alameda         6.0            1  2013-01-04   78   \n",
       "14512  California     Alameda         6.0            1  2013-01-05   84   \n",
       "\n",
       "       category defining_parameter defining_site  number_of_sites_reporting  \n",
       "14508  Moderate              PM2.5   06-001-0007                          4  \n",
       "14509  Moderate              PM2.5   06-001-0007                          4  \n",
       "14510  Moderate              PM2.5   06-001-0007                          4  \n",
       "14511  Moderate              PM2.5   06-001-0007                          4  \n",
       "14512  Moderate              PM2.5   06-001-0007                          4  "
      ]
     },
     "execution_count": 46,
     "metadata": {},
     "output_type": "execute_result"
    }
   ],
   "source": [
    "# confirm full_df came out ok\n",
    "full_df.head()"
   ]
  },
  {
   "cell_type": "code",
   "execution_count": 47,
   "id": "mysterious-catalog",
   "metadata": {},
   "outputs": [
    {
     "name": "stdout",
     "output_type": "stream",
     "text": [
      "<class 'pandas.core.frame.DataFrame'>\n",
      "Int64Index: 437076 entries, 14508 to 33315\n",
      "Data columns (total 10 columns):\n",
      " #   Column                     Non-Null Count   Dtype  \n",
      "---  ------                     --------------   -----  \n",
      " 0   state_name                 437076 non-null  object \n",
      " 1   county_name                437076 non-null  object \n",
      " 2   state_code                 218538 non-null  float64\n",
      " 3   county_code                437076 non-null  int64  \n",
      " 4   date                       437076 non-null  object \n",
      " 5   aqi                        437076 non-null  int64  \n",
      " 6   category                   437076 non-null  object \n",
      " 7   defining_parameter         437076 non-null  object \n",
      " 8   defining_site              437076 non-null  object \n",
      " 9   number_of_sites_reporting  437076 non-null  int64  \n",
      "dtypes: float64(1), int64(3), object(6)\n",
      "memory usage: 36.7+ MB\n"
     ]
    },
    {
     "data": {
      "text/plain": [
       "(None,\n",
       " state_name                        0\n",
       " county_name                       0\n",
       " state_code                   218538\n",
       " county_code                       0\n",
       " date                              0\n",
       " aqi                               0\n",
       " category                          0\n",
       " defining_parameter                0\n",
       " defining_site                     0\n",
       " number_of_sites_reporting         0\n",
       " dtype: int64)"
      ]
     },
     "execution_count": 47,
     "metadata": {},
     "output_type": "execute_result"
    }
   ],
   "source": [
    "# check for missing rows and object types\n",
    "full_df.info(), full_df.isnull().sum()\n",
    "# can drop state_code\n",
    "# will need to change date column to datetime and set that as index"
   ]
  },
  {
   "cell_type": "code",
   "execution_count": 48,
   "id": "skilled-columbia",
   "metadata": {},
   "outputs": [
    {
     "data": {
      "text/plain": [
       "Index(['state_name', 'county_name', 'county_code', 'date', 'aqi', 'category',\n",
       "       'defining_parameter', 'defining_site', 'number_of_sites_reporting'],\n",
       "      dtype='object')"
      ]
     },
     "execution_count": 48,
     "metadata": {},
     "output_type": "execute_result"
    }
   ],
   "source": [
    "# can drop state_code\n",
    "full_df.drop(columns=['state_code'], inplace= True)\n",
    "\n",
    "# confirm the column was dropped\n",
    "full_df.columns"
   ]
  },
  {
   "cell_type": "code",
   "execution_count": 49,
   "id": "exact-wilderness",
   "metadata": {},
   "outputs": [
    {
     "name": "stdout",
     "output_type": "stream",
     "text": [
      "14508   2013-01-01\n",
      "14509   2013-01-02\n",
      "14510   2013-01-03\n",
      "14511   2013-01-04\n",
      "14512   2013-01-05\n",
      "           ...    \n",
      "33311   2009-12-27\n",
      "33312   2009-12-28\n",
      "33313   2009-12-29\n",
      "33314   2009-12-30\n",
      "33315   2009-12-31\n",
      "Name: date, Length: 437076, dtype: datetime64[ns]\n"
     ]
    },
    {
     "data": {
      "text/html": [
       "<div>\n",
       "<style scoped>\n",
       "    .dataframe tbody tr th:only-of-type {\n",
       "        vertical-align: middle;\n",
       "    }\n",
       "\n",
       "    .dataframe tbody tr th {\n",
       "        vertical-align: top;\n",
       "    }\n",
       "\n",
       "    .dataframe thead th {\n",
       "        text-align: right;\n",
       "    }\n",
       "</style>\n",
       "<table border=\"1\" class=\"dataframe\">\n",
       "  <thead>\n",
       "    <tr style=\"text-align: right;\">\n",
       "      <th></th>\n",
       "      <th>state_name</th>\n",
       "      <th>county_name</th>\n",
       "      <th>county_code</th>\n",
       "      <th>aqi</th>\n",
       "      <th>category</th>\n",
       "      <th>defining_parameter</th>\n",
       "      <th>defining_site</th>\n",
       "      <th>number_of_sites_reporting</th>\n",
       "    </tr>\n",
       "    <tr>\n",
       "      <th>date</th>\n",
       "      <th></th>\n",
       "      <th></th>\n",
       "      <th></th>\n",
       "      <th></th>\n",
       "      <th></th>\n",
       "      <th></th>\n",
       "      <th></th>\n",
       "      <th></th>\n",
       "    </tr>\n",
       "  </thead>\n",
       "  <tbody>\n",
       "    <tr>\n",
       "      <th>2013-01-01</th>\n",
       "      <td>California</td>\n",
       "      <td>Alameda</td>\n",
       "      <td>1</td>\n",
       "      <td>62</td>\n",
       "      <td>Moderate</td>\n",
       "      <td>PM2.5</td>\n",
       "      <td>06-001-0007</td>\n",
       "      <td>4</td>\n",
       "    </tr>\n",
       "    <tr>\n",
       "      <th>2013-01-02</th>\n",
       "      <td>California</td>\n",
       "      <td>Alameda</td>\n",
       "      <td>1</td>\n",
       "      <td>61</td>\n",
       "      <td>Moderate</td>\n",
       "      <td>PM2.5</td>\n",
       "      <td>06-001-0007</td>\n",
       "      <td>4</td>\n",
       "    </tr>\n",
       "    <tr>\n",
       "      <th>2013-01-03</th>\n",
       "      <td>California</td>\n",
       "      <td>Alameda</td>\n",
       "      <td>1</td>\n",
       "      <td>81</td>\n",
       "      <td>Moderate</td>\n",
       "      <td>PM2.5</td>\n",
       "      <td>06-001-0007</td>\n",
       "      <td>4</td>\n",
       "    </tr>\n",
       "    <tr>\n",
       "      <th>2013-01-04</th>\n",
       "      <td>California</td>\n",
       "      <td>Alameda</td>\n",
       "      <td>1</td>\n",
       "      <td>78</td>\n",
       "      <td>Moderate</td>\n",
       "      <td>PM2.5</td>\n",
       "      <td>06-001-0007</td>\n",
       "      <td>4</td>\n",
       "    </tr>\n",
       "    <tr>\n",
       "      <th>2013-01-05</th>\n",
       "      <td>California</td>\n",
       "      <td>Alameda</td>\n",
       "      <td>1</td>\n",
       "      <td>84</td>\n",
       "      <td>Moderate</td>\n",
       "      <td>PM2.5</td>\n",
       "      <td>06-001-0007</td>\n",
       "      <td>4</td>\n",
       "    </tr>\n",
       "  </tbody>\n",
       "</table>\n",
       "</div>"
      ],
      "text/plain": [
       "            state_name county_name  county_code  aqi  category  \\\n",
       "date                                                             \n",
       "2013-01-01  California     Alameda            1   62  Moderate   \n",
       "2013-01-02  California     Alameda            1   61  Moderate   \n",
       "2013-01-03  California     Alameda            1   81  Moderate   \n",
       "2013-01-04  California     Alameda            1   78  Moderate   \n",
       "2013-01-05  California     Alameda            1   84  Moderate   \n",
       "\n",
       "           defining_parameter defining_site  number_of_sites_reporting  \n",
       "date                                                                    \n",
       "2013-01-01              PM2.5   06-001-0007                          4  \n",
       "2013-01-02              PM2.5   06-001-0007                          4  \n",
       "2013-01-03              PM2.5   06-001-0007                          4  \n",
       "2013-01-04              PM2.5   06-001-0007                          4  \n",
       "2013-01-05              PM2.5   06-001-0007                          4  "
      ]
     },
     "execution_count": 49,
     "metadata": {},
     "output_type": "execute_result"
    }
   ],
   "source": [
    "# date column to datetime \n",
    "full_df['date'] = pd.to_datetime(full_df['date'])\n",
    "\n",
    "# confirm this change was made\n",
    "print(full_df['date'])\n",
    "\n",
    "# set that as index\n",
    "full_df.set_index('date', inplace=True)\n",
    "\n",
    "# confirm the date is index\n",
    "full_df.head()"
   ]
  },
  {
   "cell_type": "code",
   "execution_count": 50,
   "id": "criminal-switch",
   "metadata": {},
   "outputs": [
    {
     "name": "stdout",
     "output_type": "stream",
     "text": [
      "<class 'pandas.core.frame.DataFrame'>\n",
      "DatetimeIndex: 437076 entries, 2013-01-01 to 2009-12-31\n",
      "Data columns (total 8 columns):\n",
      " #   Column                     Non-Null Count   Dtype \n",
      "---  ------                     --------------   ----- \n",
      " 0   state_name                 437076 non-null  object\n",
      " 1   county_name                437076 non-null  object\n",
      " 2   county_code                437076 non-null  int64 \n",
      " 3   aqi                        437076 non-null  int64 \n",
      " 4   category                   437076 non-null  object\n",
      " 5   defining_parameter         437076 non-null  object\n",
      " 6   defining_site              437076 non-null  object\n",
      " 7   number_of_sites_reporting  437076 non-null  int64 \n",
      "dtypes: int64(3), object(5)\n",
      "memory usage: 30.0+ MB\n"
     ]
    }
   ],
   "source": [
    "full_df.info()"
   ]
  },
  {
   "cell_type": "code",
   "execution_count": 42,
   "id": "social-stack",
   "metadata": {},
   "outputs": [],
   "source": [
    "# export cleaned df\n",
    "full_df.to_csv('./Datasets/cleaned_df.csv')"
   ]
  }
 ],
 "metadata": {
  "kernelspec": {
   "display_name": "Python 3",
   "language": "python",
   "name": "python3"
  },
  "language_info": {
   "codemirror_mode": {
    "name": "ipython",
    "version": 3
   },
   "file_extension": ".py",
   "mimetype": "text/x-python",
   "name": "python",
   "nbconvert_exporter": "python",
   "pygments_lexer": "ipython3",
   "version": "3.8.5"
  }
 },
 "nbformat": 4,
 "nbformat_minor": 5
}
